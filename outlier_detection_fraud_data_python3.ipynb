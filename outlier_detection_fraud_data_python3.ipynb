{
  "nbformat": 4,
  "nbformat_minor": 0,
  "metadata": {
    "colab": {
      "name": "outlier detection fraud data python3.ipynb",
      "provenance": [],
      "collapsed_sections": [],
      "include_colab_link": true
    },
    "kernelspec": {
      "name": "python3",
      "display_name": "Python 3"
    }
  },
  "cells": [
    {
      "cell_type": "markdown",
      "metadata": {
        "id": "view-in-github",
        "colab_type": "text"
      },
      "source": [
        "<a href=\"https://colab.research.google.com/github/whuang61/-Amazon_Vine_Analysis/blob/main/outlier_detection_fraud_data_python3.ipynb\" target=\"_parent\"><img src=\"https://colab.research.google.com/assets/colab-badge.svg\" alt=\"Open In Colab\"/></a>"
      ]
    },
    {
      "cell_type": "markdown",
      "metadata": {
        "id": "7e3W6bZoA8E3"
      },
      "source": [
        "## Please ***DO NOT*** edit/run this notebook directly, otherwise others will have trouble rerunning the cells!\n",
        "\n",
        "\n",
        "\n",
        "\n",
        "please click File -> save a copy in your own drive or download instead, then play with your copy! Thanks!"
      ]
    },
    {
      "cell_type": "code",
      "metadata": {
        "id": "ZkPeS6NgA7Nu"
      },
      "source": [
        ""
      ],
      "execution_count": null,
      "outputs": []
    },
    {
      "cell_type": "code",
      "metadata": {
        "id": "Ot7ZHfdC9tEa"
      },
      "source": [
        "import matplotlib.pyplot as plt\n",
        "import seaborn as sns, numpy as np\n",
        "from sklearn.ensemble import IsolationForest\n",
        "from numpy import genfromtxt\n",
        "from scipy.stats import multivariate_normal\n",
        "from sklearn.metrics import f1_score\n",
        "import io\n",
        "import pandas as pd\n",
        "from sklearn.model_selection import train_test_split\n",
        "from sklearn.metrics import f1_score, roc_auc_score, roc_curve, precision_recall_curve, auc, make_scorer, recall_score, accuracy_score, precision_score, confusion_matrix\n"
      ],
      "execution_count": null,
      "outputs": []
    },
    {
      "cell_type": "markdown",
      "metadata": {
        "id": "JoyZxvFs0NQt"
      },
      "source": [
        "# Data Import"
      ]
    },
    {
      "cell_type": "code",
      "metadata": {
        "id": "1m3Ou494BtEW",
        "colab": {
          "base_uri": "https://localhost:8080/"
        },
        "outputId": "2af8ecfb-171e-4215-8ee6-e8a5662c3da4"
      },
      "source": [
        "# method 1: save the data in https://drive.google.com/drive/folders/1h7dB3SLd6HYJAisALnMax28r1idDS-N6 to your own google drive: \n",
        "# create a folder: fraudData in https://drive.google.com/drive/u/0/my-drive (the home/root folder of gDrive is: My Drive), put the file: creditcard.csv in folder fraudData\n",
        "# then follow Garima Jain in https://stackoverflow.com/questions/48340341/read-csv-to-dataframe-in-google-colab\n",
        "\n",
        "# Load the Drive helper and mount\n",
        "from google.colab import drive\n",
        "\n",
        "# This will prompt for authorization.\n",
        "drive.mount('/content/drive')"
      ],
      "execution_count": null,
      "outputs": [
        {
          "output_type": "stream",
          "text": [
            "Mounted at /content/drive\n"
          ],
          "name": "stdout"
        }
      ]
    },
    {
      "cell_type": "code",
      "metadata": {
        "id": "fLDTexCfACAN",
        "colab": {
          "base_uri": "https://localhost:8080/"
        },
        "outputId": "3307c2d4-16d5-4604-a1a3-b4042ab77238"
      },
      "source": [
        "!ls \"/content/drive/My Drive/fraudData\""
      ],
      "execution_count": null,
      "outputs": [
        {
          "output_type": "stream",
          "text": [
            "creditcard.csv\timbalancedFraudDF.csv  IpAddress_to_Country.csv\n"
          ],
          "name": "stdout"
        }
      ]
    },
    {
      "cell_type": "code",
      "metadata": {
        "id": "hAsrQUiLBFd4",
        "colab": {
          "base_uri": "https://localhost:8080/",
          "height": 224
        },
        "outputId": "04e46155-61dc-4cc9-bf5c-74867fb79d75"
      },
      "source": [
        "creditcardDF = pd.read_csv('drive/My Drive/fraudData/creditcard.csv') #much faster once saved in drive\n",
        "creditcardDF.head()#all numerical"
      ],
      "execution_count": null,
      "outputs": [
        {
          "output_type": "execute_result",
          "data": {
            "text/html": [
              "<div>\n",
              "<style scoped>\n",
              "    .dataframe tbody tr th:only-of-type {\n",
              "        vertical-align: middle;\n",
              "    }\n",
              "\n",
              "    .dataframe tbody tr th {\n",
              "        vertical-align: top;\n",
              "    }\n",
              "\n",
              "    .dataframe thead th {\n",
              "        text-align: right;\n",
              "    }\n",
              "</style>\n",
              "<table border=\"1\" class=\"dataframe\">\n",
              "  <thead>\n",
              "    <tr style=\"text-align: right;\">\n",
              "      <th></th>\n",
              "      <th>Time</th>\n",
              "      <th>V1</th>\n",
              "      <th>V2</th>\n",
              "      <th>V3</th>\n",
              "      <th>V4</th>\n",
              "      <th>V5</th>\n",
              "      <th>V6</th>\n",
              "      <th>V7</th>\n",
              "      <th>V8</th>\n",
              "      <th>V9</th>\n",
              "      <th>V10</th>\n",
              "      <th>V11</th>\n",
              "      <th>V12</th>\n",
              "      <th>V13</th>\n",
              "      <th>V14</th>\n",
              "      <th>V15</th>\n",
              "      <th>V16</th>\n",
              "      <th>V17</th>\n",
              "      <th>V18</th>\n",
              "      <th>V19</th>\n",
              "      <th>V20</th>\n",
              "      <th>V21</th>\n",
              "      <th>V22</th>\n",
              "      <th>V23</th>\n",
              "      <th>V24</th>\n",
              "      <th>V25</th>\n",
              "      <th>V26</th>\n",
              "      <th>V27</th>\n",
              "      <th>V28</th>\n",
              "      <th>Amount</th>\n",
              "      <th>Class</th>\n",
              "    </tr>\n",
              "  </thead>\n",
              "  <tbody>\n",
              "    <tr>\n",
              "      <th>0</th>\n",
              "      <td>0.0</td>\n",
              "      <td>-1.359807</td>\n",
              "      <td>-0.072781</td>\n",
              "      <td>2.536347</td>\n",
              "      <td>1.378155</td>\n",
              "      <td>-0.338321</td>\n",
              "      <td>0.462388</td>\n",
              "      <td>0.239599</td>\n",
              "      <td>0.098698</td>\n",
              "      <td>0.363787</td>\n",
              "      <td>0.090794</td>\n",
              "      <td>-0.551600</td>\n",
              "      <td>-0.617801</td>\n",
              "      <td>-0.991390</td>\n",
              "      <td>-0.311169</td>\n",
              "      <td>1.468177</td>\n",
              "      <td>-0.470401</td>\n",
              "      <td>0.207971</td>\n",
              "      <td>0.025791</td>\n",
              "      <td>0.403993</td>\n",
              "      <td>0.251412</td>\n",
              "      <td>-0.018307</td>\n",
              "      <td>0.277838</td>\n",
              "      <td>-0.110474</td>\n",
              "      <td>0.066928</td>\n",
              "      <td>0.128539</td>\n",
              "      <td>-0.189115</td>\n",
              "      <td>0.133558</td>\n",
              "      <td>-0.021053</td>\n",
              "      <td>149.62</td>\n",
              "      <td>0</td>\n",
              "    </tr>\n",
              "    <tr>\n",
              "      <th>1</th>\n",
              "      <td>0.0</td>\n",
              "      <td>1.191857</td>\n",
              "      <td>0.266151</td>\n",
              "      <td>0.166480</td>\n",
              "      <td>0.448154</td>\n",
              "      <td>0.060018</td>\n",
              "      <td>-0.082361</td>\n",
              "      <td>-0.078803</td>\n",
              "      <td>0.085102</td>\n",
              "      <td>-0.255425</td>\n",
              "      <td>-0.166974</td>\n",
              "      <td>1.612727</td>\n",
              "      <td>1.065235</td>\n",
              "      <td>0.489095</td>\n",
              "      <td>-0.143772</td>\n",
              "      <td>0.635558</td>\n",
              "      <td>0.463917</td>\n",
              "      <td>-0.114805</td>\n",
              "      <td>-0.183361</td>\n",
              "      <td>-0.145783</td>\n",
              "      <td>-0.069083</td>\n",
              "      <td>-0.225775</td>\n",
              "      <td>-0.638672</td>\n",
              "      <td>0.101288</td>\n",
              "      <td>-0.339846</td>\n",
              "      <td>0.167170</td>\n",
              "      <td>0.125895</td>\n",
              "      <td>-0.008983</td>\n",
              "      <td>0.014724</td>\n",
              "      <td>2.69</td>\n",
              "      <td>0</td>\n",
              "    </tr>\n",
              "    <tr>\n",
              "      <th>2</th>\n",
              "      <td>1.0</td>\n",
              "      <td>-1.358354</td>\n",
              "      <td>-1.340163</td>\n",
              "      <td>1.773209</td>\n",
              "      <td>0.379780</td>\n",
              "      <td>-0.503198</td>\n",
              "      <td>1.800499</td>\n",
              "      <td>0.791461</td>\n",
              "      <td>0.247676</td>\n",
              "      <td>-1.514654</td>\n",
              "      <td>0.207643</td>\n",
              "      <td>0.624501</td>\n",
              "      <td>0.066084</td>\n",
              "      <td>0.717293</td>\n",
              "      <td>-0.165946</td>\n",
              "      <td>2.345865</td>\n",
              "      <td>-2.890083</td>\n",
              "      <td>1.109969</td>\n",
              "      <td>-0.121359</td>\n",
              "      <td>-2.261857</td>\n",
              "      <td>0.524980</td>\n",
              "      <td>0.247998</td>\n",
              "      <td>0.771679</td>\n",
              "      <td>0.909412</td>\n",
              "      <td>-0.689281</td>\n",
              "      <td>-0.327642</td>\n",
              "      <td>-0.139097</td>\n",
              "      <td>-0.055353</td>\n",
              "      <td>-0.059752</td>\n",
              "      <td>378.66</td>\n",
              "      <td>0</td>\n",
              "    </tr>\n",
              "    <tr>\n",
              "      <th>3</th>\n",
              "      <td>1.0</td>\n",
              "      <td>-0.966272</td>\n",
              "      <td>-0.185226</td>\n",
              "      <td>1.792993</td>\n",
              "      <td>-0.863291</td>\n",
              "      <td>-0.010309</td>\n",
              "      <td>1.247203</td>\n",
              "      <td>0.237609</td>\n",
              "      <td>0.377436</td>\n",
              "      <td>-1.387024</td>\n",
              "      <td>-0.054952</td>\n",
              "      <td>-0.226487</td>\n",
              "      <td>0.178228</td>\n",
              "      <td>0.507757</td>\n",
              "      <td>-0.287924</td>\n",
              "      <td>-0.631418</td>\n",
              "      <td>-1.059647</td>\n",
              "      <td>-0.684093</td>\n",
              "      <td>1.965775</td>\n",
              "      <td>-1.232622</td>\n",
              "      <td>-0.208038</td>\n",
              "      <td>-0.108300</td>\n",
              "      <td>0.005274</td>\n",
              "      <td>-0.190321</td>\n",
              "      <td>-1.175575</td>\n",
              "      <td>0.647376</td>\n",
              "      <td>-0.221929</td>\n",
              "      <td>0.062723</td>\n",
              "      <td>0.061458</td>\n",
              "      <td>123.50</td>\n",
              "      <td>0</td>\n",
              "    </tr>\n",
              "    <tr>\n",
              "      <th>4</th>\n",
              "      <td>2.0</td>\n",
              "      <td>-1.158233</td>\n",
              "      <td>0.877737</td>\n",
              "      <td>1.548718</td>\n",
              "      <td>0.403034</td>\n",
              "      <td>-0.407193</td>\n",
              "      <td>0.095921</td>\n",
              "      <td>0.592941</td>\n",
              "      <td>-0.270533</td>\n",
              "      <td>0.817739</td>\n",
              "      <td>0.753074</td>\n",
              "      <td>-0.822843</td>\n",
              "      <td>0.538196</td>\n",
              "      <td>1.345852</td>\n",
              "      <td>-1.119670</td>\n",
              "      <td>0.175121</td>\n",
              "      <td>-0.451449</td>\n",
              "      <td>-0.237033</td>\n",
              "      <td>-0.038195</td>\n",
              "      <td>0.803487</td>\n",
              "      <td>0.408542</td>\n",
              "      <td>-0.009431</td>\n",
              "      <td>0.798278</td>\n",
              "      <td>-0.137458</td>\n",
              "      <td>0.141267</td>\n",
              "      <td>-0.206010</td>\n",
              "      <td>0.502292</td>\n",
              "      <td>0.219422</td>\n",
              "      <td>0.215153</td>\n",
              "      <td>69.99</td>\n",
              "      <td>0</td>\n",
              "    </tr>\n",
              "  </tbody>\n",
              "</table>\n",
              "</div>"
            ],
            "text/plain": [
              "   Time        V1        V2        V3  ...       V27       V28  Amount  Class\n",
              "0   0.0 -1.359807 -0.072781  2.536347  ...  0.133558 -0.021053  149.62      0\n",
              "1   0.0  1.191857  0.266151  0.166480  ... -0.008983  0.014724    2.69      0\n",
              "2   1.0 -1.358354 -1.340163  1.773209  ... -0.055353 -0.059752  378.66      0\n",
              "3   1.0 -0.966272 -0.185226  1.792993  ...  0.062723  0.061458  123.50      0\n",
              "4   2.0 -1.158233  0.877737  1.548718  ...  0.219422  0.215153   69.99      0\n",
              "\n",
              "[5 rows x 31 columns]"
            ]
          },
          "metadata": {
            "tags": []
          },
          "execution_count": 4
        }
      ]
    },
    {
      "cell_type": "code",
      "metadata": {
        "id": "ARb8-Y2e-Nlk",
        "colab": {
          "resources": {
            "http://localhost:8080/nbextensions/google.colab/files.js": {
              "data": "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",
              "ok": true,
              "headers": [
                [
                  "content-type",
                  "application/javascript"
                ]
              ],
              "status": 200,
              "status_text": "OK"
            }
          },
          "base_uri": "https://localhost:8080/",
          "height": 72
        },
        "outputId": "077f310f-a16a-4e12-e094-e9501d65ce25"
      },
      "source": [
        "#method 2a, very slow, not suggested\n",
        "#download the creditcard.csv to your local machine, then upload it:\n",
        "\n",
        "from google.colab import files\n",
        "uploaded = files.upload()\n",
        "# It will prompt you to select a file. (may need to rerun this cell to enable this). Click on “Choose Files” then select and upload the file. Wait for the file to be 100% uploaded. \n",
        "# You should see the name of the file once Colab has uploaded it. this may take up to 15 mins"
      ],
      "execution_count": null,
      "outputs": [
        {
          "output_type": "display_data",
          "data": {
            "text/html": [
              "\n",
              "     <input type=\"file\" id=\"files-f6d38e85-0a4d-4c7d-8007-12dbb55534da\" name=\"files[]\" multiple disabled />\n",
              "     <output id=\"result-f6d38e85-0a4d-4c7d-8007-12dbb55534da\">\n",
              "      Upload widget is only available when the cell has been executed in the\n",
              "      current browser session. Please rerun this cell to enable.\n",
              "      </output>\n",
              "      <script src=\"/nbextensions/google.colab/files.js\"></script> "
            ],
            "text/plain": [
              "<IPython.core.display.HTML object>"
            ]
          },
          "metadata": {
            "tags": []
          }
        },
        {
          "output_type": "stream",
          "text": [
            "Saving creditcard.csv to creditcard.csv\n"
          ],
          "name": "stdout"
        }
      ]
    },
    {
      "cell_type": "code",
      "metadata": {
        "id": "BrKCMkg4gh_K"
      },
      "source": [
        "##method 2b, Finally, type in the following code to import it into a dataframe (make sure the filename matches the name of the uploaded file).\n",
        "\n",
        "\n",
        "creditcardDF = pd.read_csv(io.BytesIO(uploaded['creditcard.csv']))\n",
        "\n",
        "creditcardDF.head()"
      ],
      "execution_count": null,
      "outputs": []
    },
    {
      "cell_type": "code",
      "metadata": {
        "id": "cmbDYSzDHd1a",
        "colab": {
          "base_uri": "https://localhost:8080/",
          "height": 68
        },
        "outputId": "e8417ffd-963c-4c84-cfd7-b67dc6d6ce73"
      },
      "source": [
        "#Distribution of the label column\n",
        "creditcardDF['Class'].value_counts()"
      ],
      "execution_count": null,
      "outputs": [
        {
          "output_type": "execute_result",
          "data": {
            "text/plain": [
              "0    284315\n",
              "1       492\n",
              "Name: Class, dtype: int64"
            ]
          },
          "metadata": {
            "tags": []
          },
          "execution_count": 4
        }
      ]
    },
    {
      "cell_type": "code",
      "metadata": {
        "id": "YRXR-vc1JJ3m",
        "colab": {
          "base_uri": "https://localhost:8080/",
          "height": 34
        },
        "outputId": "6217fdc5-9eb4-4833-e77c-2e7539f06279"
      },
      "source": [
        "492 / (284315  + 492) #<0.2 percent"
      ],
      "execution_count": null,
      "outputs": [
        {
          "output_type": "execute_result",
          "data": {
            "text/plain": [
              "0.001727485630620034"
            ]
          },
          "metadata": {
            "tags": []
          },
          "execution_count": 1
        }
      ]
    },
    {
      "cell_type": "code",
      "metadata": {
        "id": "fZLQtN8uIQp8",
        "colab": {
          "base_uri": "https://localhost:8080/",
          "height": 34
        },
        "outputId": "48ab2a22-f355-4922-a875-7930245bf297"
      },
      "source": [
        "creditcardDF.shape"
      ],
      "execution_count": null,
      "outputs": [
        {
          "output_type": "execute_result",
          "data": {
            "text/plain": [
              "(284807, 31)"
            ]
          },
          "metadata": {
            "tags": []
          },
          "execution_count": 11
        }
      ]
    },
    {
      "cell_type": "code",
      "metadata": {
        "id": "q2hF4Q5st6Ji",
        "colab": {
          "base_uri": "https://localhost:8080/",
          "height": 573
        },
        "outputId": "1248cc35-b27f-4578-eb4d-0e4a458aea5f"
      },
      "source": [
        "creditcardDF.isna().sum()#null checking"
      ],
      "execution_count": null,
      "outputs": [
        {
          "output_type": "execute_result",
          "data": {
            "text/plain": [
              "Time      0\n",
              "V1        0\n",
              "V2        0\n",
              "V3        0\n",
              "V4        0\n",
              "V5        0\n",
              "V6        0\n",
              "V7        0\n",
              "V8        0\n",
              "V9        0\n",
              "V10       0\n",
              "V11       0\n",
              "V12       0\n",
              "V13       0\n",
              "V14       0\n",
              "V15       0\n",
              "V16       0\n",
              "V17       0\n",
              "V18       0\n",
              "V19       0\n",
              "V20       0\n",
              "V21       0\n",
              "V22       0\n",
              "V23       0\n",
              "V24       0\n",
              "V25       0\n",
              "V26       0\n",
              "V27       0\n",
              "V28       0\n",
              "Amount    0\n",
              "Class     0\n",
              "dtype: int64"
            ]
          },
          "metadata": {
            "tags": []
          },
          "execution_count": 7
        }
      ]
    },
    {
      "cell_type": "code",
      "metadata": {
        "id": "h_wWarLPuQ5v",
        "colab": {
          "base_uri": "https://localhost:8080/",
          "height": 296
        },
        "outputId": "7db020c9-1e22-4225-fd16-69f5f8373ead"
      },
      "source": [
        "\n",
        "\n",
        "sns.distplot(creditcardDF['Time'])"
      ],
      "execution_count": null,
      "outputs": [
        {
          "output_type": "execute_result",
          "data": {
            "text/plain": [
              "<matplotlib.axes._subplots.AxesSubplot at 0x7f4f248509b0>"
            ]
          },
          "metadata": {
            "tags": []
          },
          "execution_count": 9
        },
        {
          "output_type": "display_data",
          "data": {
            "image/png": "[encoded data removed]",
            "text/plain": [
              "<Figure size 432x288 with 1 Axes>"
            ]
          },
          "metadata": {
            "tags": []
          }
        }
      ]
    },
    {
      "cell_type": "code",
      "metadata": {
        "id": "_s5s4tUSuQm9",
        "colab": {
          "base_uri": "https://localhost:8080/",
          "height": 296
        },
        "outputId": "10412cee-fba8-4289-9cd9-a1d74bd45881"
      },
      "source": [
        "\n",
        "sns.distplot(creditcardDF['Amount'])"
      ],
      "execution_count": null,
      "outputs": [
        {
          "output_type": "execute_result",
          "data": {
            "text/plain": [
              "<matplotlib.axes._subplots.AxesSubplot at 0x7f4f24066a90>"
            ]
          },
          "metadata": {
            "tags": []
          },
          "execution_count": 11
        },
        {
          "output_type": "display_data",
          "data": {
            "image/png": "[encoded data removed]",
            "text/plain": [
              "<Figure size 432x288 with 1 Axes>"
            ]
          },
          "metadata": {
            "tags": []
          }
        }
      ]
    },
    {
      "cell_type": "code",
      "metadata": {
        "id": "C1lrJCCou_Bo",
        "colab": {
          "base_uri": "https://localhost:8080/"
        },
        "outputId": "4ec1b2d4-828c-430c-fcf8-676d8bd0c579"
      },
      "source": [
        "creditcardDF['Amount'] = np.log(creditcardDF['Amount'] + 1)\n",
        "\n",
        "creditcardDF['Time'] = np.log(creditcardDF['Time'] + 1)\n",
        "\n",
        "normal = creditcardDF[creditcardDF['Class'] == 0]\n",
        "anomaly = creditcardDF[creditcardDF['Class'] == 1]\n",
        "\n",
        "train, small_normal = train_test_split(normal, test_size=0.2, random_state=0)\n",
        "normal_valid, normal_test = train_test_split(small_normal, test_size=0.5, random_state=0)#2000 : 2000 good hd\n",
        "anomaly_valid, anomaly_test = train_test_split(anomaly, test_size=0.5, random_state=0)#10 : 10 bad hd\n",
        "\n",
        "validation = pd.concat([normal_valid, anomaly_valid])#include both good and bad, cross validation data in our text\n",
        "test = pd.concat([normal_test, anomaly_test])#include both good and bad\n",
        "\n",
        "\n",
        "print(validation.shape)\n",
        "print(test.shape)\n",
        "\n",
        "train = train.drop(columns = ['Class']).reset_index(drop= True)#no need of label in train data, drop it\n",
        "print(train.shape)"
      ],
      "execution_count": null,
      "outputs": [
        {
          "output_type": "stream",
          "text": [
            "(28677, 31)\n",
            "(28678, 31)\n",
            "(227452, 30)\n"
          ],
          "name": "stdout"
        }
      ]
    },
    {
      "cell_type": "code",
      "metadata": {
        "id": "tb6GZTYC9O97"
      },
      "source": [
        "featureNames = list(train.columns.values)#feature names only, no label\n",
        "valFeatures = validation[featureNames].reset_index(drop= True)#feature df only, no label\n",
        "testFeatures = test[featureNames].reset_index(drop= True)#feature df only, no label\n",
        "\n",
        "valLabel = validation['Class']#label df only\n",
        "testLabel = test['Class']#label df only\n",
        "\n"
      ],
      "execution_count": null,
      "outputs": []
    },
    {
      "cell_type": "code",
      "metadata": {
        "id": "jW20aYtk3lo1",
        "colab": {
          "base_uri": "https://localhost:8080/",
          "height": 224
        },
        "outputId": "9b83e5aa-b749-4f12-ef4b-d342ef41cbd0"
      },
      "source": [
        "valFeatures.head()"
      ],
      "execution_count": null,
      "outputs": [
        {
          "output_type": "execute_result",
          "data": {
            "text/html": [
              "<div>\n",
              "<style scoped>\n",
              "    .dataframe tbody tr th:only-of-type {\n",
              "        vertical-align: middle;\n",
              "    }\n",
              "\n",
              "    .dataframe tbody tr th {\n",
              "        vertical-align: top;\n",
              "    }\n",
              "\n",
              "    .dataframe thead th {\n",
              "        text-align: right;\n",
              "    }\n",
              "</style>\n",
              "<table border=\"1\" class=\"dataframe\">\n",
              "  <thead>\n",
              "    <tr style=\"text-align: right;\">\n",
              "      <th></th>\n",
              "      <th>Time</th>\n",
              "      <th>V1</th>\n",
              "      <th>V2</th>\n",
              "      <th>V3</th>\n",
              "      <th>V4</th>\n",
              "      <th>V5</th>\n",
              "      <th>V6</th>\n",
              "      <th>V7</th>\n",
              "      <th>V8</th>\n",
              "      <th>V9</th>\n",
              "      <th>V10</th>\n",
              "      <th>V11</th>\n",
              "      <th>V12</th>\n",
              "      <th>V13</th>\n",
              "      <th>V14</th>\n",
              "      <th>V15</th>\n",
              "      <th>V16</th>\n",
              "      <th>V17</th>\n",
              "      <th>V18</th>\n",
              "      <th>V19</th>\n",
              "      <th>V20</th>\n",
              "      <th>V21</th>\n",
              "      <th>V22</th>\n",
              "      <th>V23</th>\n",
              "      <th>V24</th>\n",
              "      <th>V25</th>\n",
              "      <th>V26</th>\n",
              "      <th>V27</th>\n",
              "      <th>V28</th>\n",
              "      <th>Amount</th>\n",
              "    </tr>\n",
              "  </thead>\n",
              "  <tbody>\n",
              "    <tr>\n",
              "      <th>0</th>\n",
              "      <td>11.827043</td>\n",
              "      <td>-0.248023</td>\n",
              "      <td>1.259502</td>\n",
              "      <td>-0.993999</td>\n",
              "      <td>-1.587788</td>\n",
              "      <td>1.913462</td>\n",
              "      <td>-0.630270</td>\n",
              "      <td>1.958852</td>\n",
              "      <td>-0.659274</td>\n",
              "      <td>0.002373</td>\n",
              "      <td>0.718353</td>\n",
              "      <td>0.474332</td>\n",
              "      <td>0.297023</td>\n",
              "      <td>-0.025971</td>\n",
              "      <td>0.256813</td>\n",
              "      <td>-0.730278</td>\n",
              "      <td>-0.479395</td>\n",
              "      <td>-1.145347</td>\n",
              "      <td>0.234891</td>\n",
              "      <td>0.351396</td>\n",
              "      <td>0.396605</td>\n",
              "      <td>0.089915</td>\n",
              "      <td>0.896611</td>\n",
              "      <td>-0.367547</td>\n",
              "      <td>0.143515</td>\n",
              "      <td>-0.177558</td>\n",
              "      <td>0.025269</td>\n",
              "      <td>0.271419</td>\n",
              "      <td>-0.066416</td>\n",
              "      <td>0.920283</td>\n",
              "    </tr>\n",
              "    <tr>\n",
              "      <th>1</th>\n",
              "      <td>10.809566</td>\n",
              "      <td>-1.614505</td>\n",
              "      <td>-0.970137</td>\n",
              "      <td>1.730517</td>\n",
              "      <td>-1.715497</td>\n",
              "      <td>-0.869271</td>\n",
              "      <td>-0.171355</td>\n",
              "      <td>1.216768</td>\n",
              "      <td>-0.031314</td>\n",
              "      <td>0.992762</td>\n",
              "      <td>-2.191051</td>\n",
              "      <td>-1.019348</td>\n",
              "      <td>0.600947</td>\n",
              "      <td>0.821185</td>\n",
              "      <td>-0.477250</td>\n",
              "      <td>0.612733</td>\n",
              "      <td>-0.092783</td>\n",
              "      <td>-0.664174</td>\n",
              "      <td>0.643702</td>\n",
              "      <td>-0.047904</td>\n",
              "      <td>0.831753</td>\n",
              "      <td>0.408654</td>\n",
              "      <td>0.630537</td>\n",
              "      <td>0.382848</td>\n",
              "      <td>-0.110627</td>\n",
              "      <td>0.906539</td>\n",
              "      <td>-0.618206</td>\n",
              "      <td>-0.026364</td>\n",
              "      <td>0.104561</td>\n",
              "      <td>5.874931</td>\n",
              "    </tr>\n",
              "    <tr>\n",
              "      <th>2</th>\n",
              "      <td>11.340380</td>\n",
              "      <td>1.106176</td>\n",
              "      <td>0.148096</td>\n",
              "      <td>0.424489</td>\n",
              "      <td>1.282916</td>\n",
              "      <td>-0.080275</td>\n",
              "      <td>0.146526</td>\n",
              "      <td>-0.007108</td>\n",
              "      <td>0.114953</td>\n",
              "      <td>-0.004731</td>\n",
              "      <td>0.033642</td>\n",
              "      <td>1.200830</td>\n",
              "      <td>1.342878</td>\n",
              "      <td>0.018898</td>\n",
              "      <td>0.217944</td>\n",
              "      <td>-0.819673</td>\n",
              "      <td>-0.536572</td>\n",
              "      <td>-0.000444</td>\n",
              "      <td>-0.509860</td>\n",
              "      <td>-0.081917</td>\n",
              "      <td>-0.148073</td>\n",
              "      <td>-0.042488</td>\n",
              "      <td>0.071593</td>\n",
              "      <td>-0.085294</td>\n",
              "      <td>0.032780</td>\n",
              "      <td>0.637894</td>\n",
              "      <td>-0.331179</td>\n",
              "      <td>0.036130</td>\n",
              "      <td>0.007639</td>\n",
              "      <td>2.866193</td>\n",
              "    </tr>\n",
              "    <tr>\n",
              "      <th>3</th>\n",
              "      <td>11.321208</td>\n",
              "      <td>-1.791995</td>\n",
              "      <td>1.102738</td>\n",
              "      <td>0.324217</td>\n",
              "      <td>1.082267</td>\n",
              "      <td>-0.303348</td>\n",
              "      <td>-1.050303</td>\n",
              "      <td>0.066270</td>\n",
              "      <td>0.613586</td>\n",
              "      <td>-0.720545</td>\n",
              "      <td>-0.232754</td>\n",
              "      <td>-0.741686</td>\n",
              "      <td>0.317251</td>\n",
              "      <td>0.404740</td>\n",
              "      <td>0.810007</td>\n",
              "      <td>0.990986</td>\n",
              "      <td>-0.069383</td>\n",
              "      <td>0.096501</td>\n",
              "      <td>0.143086</td>\n",
              "      <td>0.447363</td>\n",
              "      <td>-0.285331</td>\n",
              "      <td>0.151935</td>\n",
              "      <td>0.514245</td>\n",
              "      <td>0.290932</td>\n",
              "      <td>0.403345</td>\n",
              "      <td>-0.064118</td>\n",
              "      <td>-0.318054</td>\n",
              "      <td>0.021940</td>\n",
              "      <td>0.013401</td>\n",
              "      <td>3.432373</td>\n",
              "    </tr>\n",
              "    <tr>\n",
              "      <th>4</th>\n",
              "      <td>11.956784</td>\n",
              "      <td>1.924286</td>\n",
              "      <td>0.324362</td>\n",
              "      <td>-0.734639</td>\n",
              "      <td>3.370481</td>\n",
              "      <td>0.783552</td>\n",
              "      <td>1.224944</td>\n",
              "      <td>-0.298881</td>\n",
              "      <td>0.291717</td>\n",
              "      <td>-0.790152</td>\n",
              "      <td>1.592072</td>\n",
              "      <td>-0.561561</td>\n",
              "      <td>-0.101690</td>\n",
              "      <td>-0.249445</td>\n",
              "      <td>0.233490</td>\n",
              "      <td>-1.160360</td>\n",
              "      <td>1.566431</td>\n",
              "      <td>-1.480919</td>\n",
              "      <td>0.594003</td>\n",
              "      <td>-0.903739</td>\n",
              "      <td>-0.227395</td>\n",
              "      <td>-0.022543</td>\n",
              "      <td>-0.115448</td>\n",
              "      <td>0.143200</td>\n",
              "      <td>-0.357497</td>\n",
              "      <td>-0.109288</td>\n",
              "      <td>-0.105516</td>\n",
              "      <td>-0.025440</td>\n",
              "      <td>-0.050761</td>\n",
              "      <td>2.572612</td>\n",
              "    </tr>\n",
              "  </tbody>\n",
              "</table>\n",
              "</div>"
            ],
            "text/plain": [
              "        Time        V1        V2  ...       V27       V28    Amount\n",
              "0  11.827043 -0.248023  1.259502  ...  0.271419 -0.066416  0.920283\n",
              "1  10.809566 -1.614505 -0.970137  ... -0.026364  0.104561  5.874931\n",
              "2  11.340380  1.106176  0.148096  ...  0.036130  0.007639  2.866193\n",
              "3  11.321208 -1.791995  1.102738  ...  0.021940  0.013401  3.432373\n",
              "4  11.956784  1.924286  0.324362  ... -0.025440 -0.050761  2.572612\n",
              "\n",
              "[5 rows x 30 columns]"
            ]
          },
          "metadata": {
            "tags": []
          },
          "execution_count": 7
        }
      ]
    },
    {
      "cell_type": "code",
      "metadata": {
        "id": "yFURxHtfu-cv",
        "colab": {
          "base_uri": "https://localhost:8080/",
          "height": 69
        },
        "outputId": "3bad0390-c4bc-4a6b-947d-bd61306cb250"
      },
      "source": [
        "validation['Class'].value_counts()"
      ],
      "execution_count": null,
      "outputs": [
        {
          "output_type": "execute_result",
          "data": {
            "text/plain": [
              "0    28431\n",
              "1      246\n",
              "Name: Class, dtype: int64"
            ]
          },
          "metadata": {
            "tags": []
          },
          "execution_count": 11
        }
      ]
    },
    {
      "cell_type": "code",
      "metadata": {
        "id": "01oHXvrc4xEz",
        "colab": {
          "base_uri": "https://localhost:8080/",
          "height": 69
        },
        "outputId": "4ca42360-88b5-4f11-db44-816c35f295eb"
      },
      "source": [
        "test['Class'].value_counts()\n",
        "\n",
        "\n"
      ],
      "execution_count": null,
      "outputs": [
        {
          "output_type": "execute_result",
          "data": {
            "text/plain": [
              "0    28432\n",
              "1      246\n",
              "Name: Class, dtype: int64"
            ]
          },
          "metadata": {
            "tags": []
          },
          "execution_count": 13
        }
      ]
    },
    {
      "cell_type": "code",
      "metadata": {
        "id": "uC4U5x8f_fIu",
        "colab": {
          "base_uri": "https://localhost:8080/",
          "height": 295
        },
        "outputId": "6fdc5085-0888-4fd6-d713-d7e6260c00c4"
      },
      "source": [
        "plt.figure()\n",
        "plt.title(\"train data of V1 and V2\")#may contain outliers\n",
        "plt.xlabel(\"V1\")\n",
        "plt.ylabel(\"V2\")\n",
        "plt.plot(train.iloc[:, 1],train.iloc[:,2],\"bx\")\n",
        "plt.show()\n",
        "\n",
        "\n"
      ],
      "execution_count": null,
      "outputs": [
        {
          "output_type": "display_data",
          "data": {
            "image/png": "[encoded data removed]",
            "text/plain": [
              "<Figure size 432x288 with 1 Axes>"
            ]
          },
          "metadata": {
            "tags": []
          }
        }
      ]
    },
    {
      "cell_type": "code",
      "metadata": {
        "id": "ClT7DCgz_hZ5",
        "colab": {
          "base_uri": "https://localhost:8080/",
          "height": 295
        },
        "outputId": "09cecd53-3aa4-4f57-8137-a01dcd3c5420"
      },
      "source": [
        "plt.figure()\n",
        "plt.title(\"validation data of V1 and V2\")\n",
        "plt.xlabel(\"V1\")\n",
        "plt.ylabel(\"V2\")\n",
        "plt.plot(validation.iloc[:, 1],validation.iloc[:,2],\"bx\")\n",
        "plt.show()"
      ],
      "execution_count": null,
      "outputs": [
        {
          "output_type": "display_data",
          "data": {
            "image/png": "[encoded data removed]",
            "text/plain": [
              "<Figure size 432x288 with 1 Axes>"
            ]
          },
          "metadata": {
            "tags": []
          }
        }
      ]
    },
    {
      "cell_type": "code",
      "metadata": {
        "id": "xS8r6bm1_lTB",
        "colab": {
          "base_uri": "https://localhost:8080/",
          "height": 295
        },
        "outputId": "3233f058-8dcb-43ff-8a78-9c6361e4686d"
      },
      "source": [
        "plt.figure()\n",
        "plt.title(\"test data of V1 and V2\")\n",
        "plt.xlabel(\"V1\")\n",
        "plt.ylabel(\"V2\")\n",
        "plt.plot(test.iloc[:, 1],test.iloc[:,2],\"bx\")\n",
        "plt.show()"
      ],
      "execution_count": null,
      "outputs": [
        {
          "output_type": "display_data",
          "data": {
            "image/png": "[encoded data removed]",
            "text/plain": [
              "<Figure size 432x288 with 1 Axes>"
            ]
          },
          "metadata": {
            "tags": []
          }
        }
      ]
    },
    {
      "cell_type": "code",
      "metadata": {
        "id": "gX9Auo2Y_vrG",
        "colab": {
          "base_uri": "https://localhost:8080/",
          "height": 34
        },
        "outputId": "35116d03-a747-4870-84e5-35a50f225faf"
      },
      "source": [
        "# np.arange(1, 20, 2)"
      ],
      "execution_count": null,
      "outputs": [
        {
          "output_type": "execute_result",
          "data": {
            "text/plain": [
              "array([ 1,  3,  5,  7,  9, 11, 13, 15, 17, 19])"
            ]
          },
          "metadata": {
            "tags": []
          },
          "execution_count": 18
        }
      ]
    },
    {
      "cell_type": "code",
      "metadata": {
        "id": "X7IkBlGp_xum"
      },
      "source": [
        "# def read_dataset(filePath, delimiter=','):\n",
        "#     return genfromtxt(filePath, delimiter=delimiter)\n",
        "\n",
        "#find parameter for each col/feature in df for the Gaussian distribution\n",
        "def estimateGaussian(dataset):\n",
        "    mu = np.mean(dataset, axis=0)\n",
        "    sigma = np.cov(dataset.T)\n",
        "    return mu, sigma\n"
      ],
      "execution_count": null,
      "outputs": []
    },
    {
      "cell_type": "code",
      "metadata": {
        "id": "86g-XAQb-Upk",
        "colab": {
          "base_uri": "https://localhost:8080/",
          "height": 34
        },
        "outputId": "6bff6e32-6f61-4544-8f4e-1c548cb88106"
      },
      "source": [
        "#https://docs.scipy.org/doc/numpy/reference/generated/numpy.linspace.html\n",
        "#Return evenly spaced numbers over a specified interval.\n",
        "np.linspace(1, 21,10, endpoint = False)"
      ],
      "execution_count": null,
      "outputs": [
        {
          "output_type": "execute_result",
          "data": {
            "text/plain": [
              "array([ 1.,  3.,  5.,  7.,  9., 11., 13., 15., 17., 19.])"
            ]
          },
          "metadata": {
            "tags": []
          },
          "execution_count": 21
        }
      ]
    },
    {
      "cell_type": "code",
      "metadata": {
        "id": "IM_7v2o4Wmah"
      },
      "source": [
        "#step 1: model training\n",
        "mu, sigma = estimateGaussian(train)\n",
        "\n",
        "#generate The probability density function/curve/surface/model for multivariate_normal given mean and cov \n",
        "#allow_singular: Whether to allow a singular covariance matrix. (Default: False); multivariate_normal needs inverse of cov\n",
        "model = multivariate_normal(mean=mu, cov=sigma, allow_singular = True)#surface hat p(x)\n"
      ],
      "execution_count": null,
      "outputs": []
    },
    {
      "cell_type": "code",
      "metadata": {
        "id": "UZ63Z1kt6Urs",
        "colab": {
          "base_uri": "https://localhost:8080/",
          "height": 85
        },
        "outputId": "81e25b1d-ef24-48a0-f421-fb7e5bc9bd61"
      },
      "source": [
        "\n",
        "pdfVal = model.pdf(valFeatures)\n",
        "print(max(pdfVal))#too small, can not differentiate\n",
        "print(min(pdfVal))\n",
        "\n",
        "p_val = model.logpdf(valFeatures)#Log of the pdf first, then apply to features, to change the magnitude of prob\n",
        "print(max(p_val))#\n",
        "print(min(p_val))"
      ],
      "execution_count": null,
      "outputs": [
        {
          "output_type": "stream",
          "text": [
            "3.936022689247968e-12\n",
            "0.0\n",
            "-26.26085037221045\n",
            "-7554.270217704667\n"
          ],
          "name": "stdout"
        }
      ]
    },
    {
      "cell_type": "code",
      "metadata": {
        "id": "MLUcuuoaADXA",
        "colab": {
          "base_uri": "https://localhost:8080/",
          "height": 51
        },
        "outputId": "3ba08b20-3eda-4805-e220-46f286162cc9"
      },
      "source": [
        "p = model.logpdf(train)\n",
        "print(p.shape)\n",
        "print((p_val.shape))\n",
        "\n",
        "# print(p)\n"
      ],
      "execution_count": null,
      "outputs": [
        {
          "output_type": "stream",
          "text": [
            "(227452,)\n",
            "(28677,)\n"
          ],
          "name": "stdout"
        }
      ]
    },
    {
      "cell_type": "code",
      "metadata": {
        "id": "bS1dGJNSX3ay",
        "colab": {
          "base_uri": "https://localhost:8080/",
          "height": 68
        },
        "outputId": "075398a0-3afb-4781-f04e-069429b54bb2"
      },
      "source": [
        "print(p_val)\n",
        "print(p_val < -500)"
      ],
      "execution_count": null,
      "outputs": [
        {
          "output_type": "stream",
          "text": [
            "[  -31.28574735   -34.94205051   -27.79402451 ... -5175.93656039\n",
            " -4545.5057626    -29.7152192 ]\n",
            "[False False False ...  True  True False]\n"
          ],
          "name": "stdout"
        }
      ]
    },
    {
      "cell_type": "code",
      "metadata": {
        "id": "liiQ58i07jTs"
      },
      "source": [
        "[[1],[2],[3]]\n",
        "\n",
        "ravel ->\n",
        "[1,2,3]"
      ],
      "execution_count": null,
      "outputs": []
    },
    {
      "cell_type": "code",
      "metadata": {
        "id": "8CbvIg7ZC5SP",
        "colab": {
          "base_uri": "https://localhost:8080/",
          "height": 88
        },
        "outputId": "4fc908af-cd63-4e47-bde9-1f617988d8db"
      },
      "source": [
        "\n",
        "#step 2\n",
        "scores = []\n",
        "p_val = model.logpdf(valFeatures)#Log of the pdf\n",
        "\n",
        "# thresholds = np.linspace(-1000, -10,150)\n",
        "thresholds = np.linspace(min(p_val), max(p_val),200)#generate all candidate threshold, epsilon\n",
        "\n",
        "#step 2:  find optimal threshold: bestThreshold\n",
        "for threshold in thresholds:\n",
        "  y_pred = (p_val < threshold).astype(int)# list of 0 and 1\n",
        "  #calculate recall, precision and f1 for each (truth, pred) pair, corresponding to that threshold\n",
        "  scores.append([recall_score(valLabel, y_pred),\n",
        "                 precision_score(valLabel, y_pred),\n",
        "                 f1_score(valLabel, y_pred, average = \"binary\")])\n",
        "\n",
        "scores = np.array(scores)\n",
        "maxIndex = scores[...,2].ravel().argmax()#maxIndex of the 3rd column (f1_score) #193, #.ravel return a flattened array\n",
        "bestThreshold = thresholds[maxIndex]\n",
        "print(scores.shape)#each row is a pair of (recall, precision, f1) corresponding to a threshold"
      ],
      "execution_count": null,
      "outputs": [
        {
          "output_type": "stream",
          "text": [
            "/usr/local/lib/python3.6/dist-packages/sklearn/metrics/_classification.py:1272: UndefinedMetricWarning: Precision is ill-defined and being set to 0.0 due to no predicted samples. Use `zero_division` parameter to control this behavior.\n",
            "  _warn_prf(average, modifier, msg_start, len(result))\n"
          ],
          "name": "stderr"
        },
        {
          "output_type": "stream",
          "text": [
            "(200, 3)\n"
          ],
          "name": "stdout"
        }
      ]
    },
    {
      "cell_type": "code",
      "metadata": {
        "id": "YxGw0Xa7CQZw",
        "colab": {
          "base_uri": "https://localhost:8080/",
          "height": 1000
        },
        "outputId": "cfa0cfab-d91c-4705-bd12-68e22877469a"
      },
      "source": [
        "print(scores)"
      ],
      "execution_count": null,
      "outputs": [
        {
          "output_type": "stream",
          "text": [
            "[[0.         0.         0.        ]\n",
            " [0.00406504 1.         0.00809717]\n",
            " [0.00406504 1.         0.00809717]\n",
            " [0.00406504 1.         0.00809717]\n",
            " [0.00406504 1.         0.00809717]\n",
            " [0.00406504 1.         0.00809717]\n",
            " [0.00406504 1.         0.00809717]\n",
            " [0.00406504 1.         0.00809717]\n",
            " [0.00406504 1.         0.00809717]\n",
            " [0.00406504 1.         0.00809717]\n",
            " [0.00406504 1.         0.00809717]\n",
            " [0.00406504 1.         0.00809717]\n",
            " [0.00406504 1.         0.00809717]\n",
            " [0.00406504 1.         0.00809717]\n",
            " [0.00406504 1.         0.00809717]\n",
            " [0.00406504 1.         0.00809717]\n",
            " [0.00406504 1.         0.00809717]\n",
            " [0.00406504 1.         0.00809717]\n",
            " [0.00406504 1.         0.00809717]\n",
            " [0.00406504 1.         0.00809717]\n",
            " [0.00406504 1.         0.00809717]\n",
            " [0.00406504 1.         0.00809717]\n",
            " [0.00406504 1.         0.00809717]\n",
            " [0.00813008 1.         0.01612903]\n",
            " [0.00813008 1.         0.01612903]\n",
            " [0.00813008 1.         0.01612903]\n",
            " [0.00813008 1.         0.01612903]\n",
            " [0.00813008 1.         0.01612903]\n",
            " [0.00813008 1.         0.01612903]\n",
            " [0.00813008 1.         0.01612903]\n",
            " [0.00813008 1.         0.01612903]\n",
            " [0.00813008 1.         0.01612903]\n",
            " [0.00813008 1.         0.01612903]\n",
            " [0.00813008 1.         0.01612903]\n",
            " [0.00813008 1.         0.01612903]\n",
            " [0.01219512 1.         0.02409639]\n",
            " [0.01219512 1.         0.02409639]\n",
            " [0.01219512 1.         0.02409639]\n",
            " [0.01219512 1.         0.02409639]\n",
            " [0.01219512 1.         0.02409639]\n",
            " [0.01219512 1.         0.02409639]\n",
            " [0.01626016 1.         0.032     ]\n",
            " [0.01626016 1.         0.032     ]\n",
            " [0.01626016 1.         0.032     ]\n",
            " [0.01626016 1.         0.032     ]\n",
            " [0.01626016 1.         0.032     ]\n",
            " [0.01626016 1.         0.032     ]\n",
            " [0.01626016 1.         0.032     ]\n",
            " [0.01626016 1.         0.032     ]\n",
            " [0.01626016 1.         0.032     ]\n",
            " [0.0203252  1.         0.03984064]\n",
            " [0.0203252  1.         0.03984064]\n",
            " [0.0203252  1.         0.03984064]\n",
            " [0.0203252  1.         0.03984064]\n",
            " [0.0203252  1.         0.03984064]\n",
            " [0.0203252  1.         0.03984064]\n",
            " [0.02439024 1.         0.04761905]\n",
            " [0.02845528 1.         0.05533597]\n",
            " [0.03658537 1.         0.07058824]\n",
            " [0.04471545 1.         0.08560311]\n",
            " [0.04471545 1.         0.08560311]\n",
            " [0.04471545 1.         0.08560311]\n",
            " [0.05284553 1.         0.1003861 ]\n",
            " [0.09756098 1.         0.17777778]\n",
            " [0.12601626 1.         0.22382671]\n",
            " [0.1300813  1.         0.23021583]\n",
            " [0.1300813  1.         0.23021583]\n",
            " [0.1300813  1.         0.23021583]\n",
            " [0.1300813  1.         0.23021583]\n",
            " [0.1300813  1.         0.23021583]\n",
            " [0.1300813  1.         0.23021583]\n",
            " [0.1300813  1.         0.23021583]\n",
            " [0.1300813  1.         0.23021583]\n",
            " [0.1300813  1.         0.23021583]\n",
            " [0.1300813  1.         0.23021583]\n",
            " [0.1300813  1.         0.23021583]\n",
            " [0.1300813  1.         0.23021583]\n",
            " [0.1300813  1.         0.23021583]\n",
            " [0.1300813  1.         0.23021583]\n",
            " [0.13414634 1.         0.23655914]\n",
            " [0.15853659 1.         0.27368421]\n",
            " [0.17479675 1.         0.29757785]\n",
            " [0.17479675 1.         0.29757785]\n",
            " [0.17479675 1.         0.29757785]\n",
            " [0.17479675 1.         0.29757785]\n",
            " [0.17479675 1.         0.29757785]\n",
            " [0.17479675 1.         0.29757785]\n",
            " [0.17479675 1.         0.29757785]\n",
            " [0.17479675 1.         0.29757785]\n",
            " [0.17479675 1.         0.29757785]\n",
            " [0.17479675 1.         0.29757785]\n",
            " [0.17479675 1.         0.29757785]\n",
            " [0.17479675 1.         0.29757785]\n",
            " [0.17479675 1.         0.29757785]\n",
            " [0.17479675 1.         0.29757785]\n",
            " [0.17479675 1.         0.29757785]\n",
            " [0.17479675 1.         0.29757785]\n",
            " [0.17886179 1.         0.30344828]\n",
            " [0.18292683 1.         0.30927835]\n",
            " [0.18699187 1.         0.31506849]\n",
            " [0.18699187 1.         0.31506849]\n",
            " [0.19512195 1.         0.32653061]\n",
            " [0.19918699 1.         0.33220339]\n",
            " [0.20325203 1.         0.33783784]\n",
            " [0.20731707 1.         0.34343434]\n",
            " [0.21544715 1.         0.35451505]\n",
            " [0.21544715 1.         0.35451505]\n",
            " [0.21544715 1.         0.35451505]\n",
            " [0.21544715 1.         0.35451505]\n",
            " [0.21544715 1.         0.35451505]\n",
            " [0.21544715 1.         0.35451505]\n",
            " [0.21544715 1.         0.35451505]\n",
            " [0.21544715 1.         0.35451505]\n",
            " [0.21544715 1.         0.35451505]\n",
            " [0.21544715 1.         0.35451505]\n",
            " [0.21544715 1.         0.35451505]\n",
            " [0.21544715 1.         0.35451505]\n",
            " [0.21544715 1.         0.35451505]\n",
            " [0.21544715 1.         0.35451505]\n",
            " [0.21544715 1.         0.35451505]\n",
            " [0.21544715 1.         0.35451505]\n",
            " [0.21544715 1.         0.35451505]\n",
            " [0.21544715 1.         0.35451505]\n",
            " [0.22764228 1.         0.37086093]\n",
            " [0.22764228 1.         0.37086093]\n",
            " [0.22764228 1.         0.37086093]\n",
            " [0.22764228 1.         0.37086093]\n",
            " [0.22764228 1.         0.37086093]\n",
            " [0.22764228 1.         0.37086093]\n",
            " [0.22764228 1.         0.37086093]\n",
            " [0.22764228 1.         0.37086093]\n",
            " [0.22764228 1.         0.37086093]\n",
            " [0.22764228 1.         0.37086093]\n",
            " [0.22764228 1.         0.37086093]\n",
            " [0.22764228 1.         0.37086093]\n",
            " [0.22764228 1.         0.37086093]\n",
            " [0.22764228 1.         0.37086093]\n",
            " [0.22764228 1.         0.37086093]\n",
            " [0.22764228 1.         0.37086093]\n",
            " [0.22764228 1.         0.37086093]\n",
            " [0.22764228 1.         0.37086093]\n",
            " [0.22764228 1.         0.37086093]\n",
            " [0.22764228 1.         0.37086093]\n",
            " [0.22764228 1.         0.37086093]\n",
            " [0.22764228 1.         0.37086093]\n",
            " [0.25203252 1.         0.4025974 ]\n",
            " [0.27642276 1.         0.43312102]\n",
            " [0.27642276 1.         0.43312102]\n",
            " [0.27642276 1.         0.43312102]\n",
            " [0.27642276 1.         0.43312102]\n",
            " [0.27642276 1.         0.43312102]\n",
            " [0.28861789 0.98611111 0.44654088]\n",
            " [0.28861789 0.98611111 0.44654088]\n",
            " [0.28861789 0.95945946 0.44375   ]\n",
            " [0.29268293 0.94736842 0.44720497]\n",
            " [0.31300813 0.95061728 0.47094801]\n",
            " [0.31300813 0.93902439 0.4695122 ]\n",
            " [0.31300813 0.93902439 0.4695122 ]\n",
            " [0.31300813 0.93902439 0.4695122 ]\n",
            " [0.31300813 0.93902439 0.4695122 ]\n",
            " [0.31300813 0.93902439 0.4695122 ]\n",
            " [0.31300813 0.93902439 0.4695122 ]\n",
            " [0.31707317 0.93975904 0.47416413]\n",
            " [0.33333333 0.94252874 0.49249249]\n",
            " [0.33739837 0.94318182 0.49700599]\n",
            " [0.33739837 0.94318182 0.49700599]\n",
            " [0.3495935  0.93478261 0.50887574]\n",
            " [0.3495935  0.93478261 0.50887574]\n",
            " [0.3495935  0.93478261 0.50887574]\n",
            " [0.35365854 0.93548387 0.51327434]\n",
            " [0.37804878 0.93939394 0.53913043]\n",
            " [0.37804878 0.93939394 0.53913043]\n",
            " [0.37804878 0.93939394 0.53913043]\n",
            " [0.37804878 0.93939394 0.53913043]\n",
            " [0.37804878 0.93939394 0.53913043]\n",
            " [0.3902439  0.94117647 0.55172414]\n",
            " [0.41463415 0.94444444 0.57627119]\n",
            " [0.44308943 0.92372881 0.5989011 ]\n",
            " [0.44715447 0.92436975 0.60273973]\n",
            " [0.44715447 0.89430894 0.59620596]\n",
            " [0.44715447 0.88709677 0.59459459]\n",
            " [0.46747967 0.8778626  0.61007958]\n",
            " [0.50406504 0.87943262 0.64082687]\n",
            " [0.51219512 0.85714286 0.64122137]\n",
            " [0.52439024 0.84313725 0.64661654]\n",
            " [0.52439024 0.83766234 0.645     ]\n",
            " [0.54065041 0.83647799 0.65679012]\n",
            " [0.54878049 0.82317073 0.65853659]\n",
            " [0.55691057 0.82035928 0.66343826]\n",
            " [0.58130081 0.8079096  0.67612293]\n",
            " [0.61788618 0.75621891 0.68008949]\n",
            " [0.71138211 0.75431034 0.73221757]\n",
            " [0.72764228 0.72764228 0.72764228]\n",
            " [0.78861789 0.7080292  0.74615385]\n",
            " [0.78861789 0.62580645 0.69784173]\n",
            " [0.80894309 0.57183908 0.67003367]\n",
            " [0.82113821 0.45190157 0.58297258]\n",
            " [0.84146341 0.34214876 0.48648649]\n",
            " [0.85365854 0.19337017 0.31531532]\n",
            " [1.         0.0085786  0.01701127]]\n"
          ],
          "name": "stdout"
        }
      ]
    },
    {
      "cell_type": "code",
      "metadata": {
        "id": "NUv0mGzMYBf8",
        "colab": {
          "base_uri": "https://localhost:8080/",
          "height": 51
        },
        "outputId": "ba56f6d7-032d-411d-91dc-2372efe68249"
      },
      "source": [
        "print(maxIndex)\n",
        "print(bestThreshold)"
      ],
      "execution_count": null,
      "outputs": [
        {
          "output_type": "stream",
          "text": [
            "193\n",
            "-253.2360071762041\n"
          ],
          "name": "stdout"
        }
      ]
    },
    {
      "cell_type": "code",
      "metadata": {
        "id": "ZFGdBwq2_398",
        "colab": {
          "base_uri": "https://localhost:8080/",
          "height": 34
        },
        "outputId": "0fe9ef70-4954-4ef4-929b-26c5d7bc8c6a"
      },
      "source": [
        "np.mean(train.iloc[:,1])"
      ],
      "execution_count": null,
      "outputs": [
        {
          "output_type": "execute_result",
          "data": {
            "text/plain": [
              "0.005246755420062154"
            ]
          },
          "metadata": {
            "tags": []
          },
          "execution_count": 16
        }
      ]
    },
    {
      "cell_type": "code",
      "metadata": {
        "id": "3DKQiFDF__hk",
        "colab": {
          "base_uri": "https://localhost:8080/",
          "height": 34
        },
        "outputId": "77637d17-b62b-426a-caaf-4a90a974a27d"
      },
      "source": [
        "mu[1]"
      ],
      "execution_count": null,
      "outputs": [
        {
          "output_type": "execute_result",
          "data": {
            "text/plain": [
              "0.005246755420062154"
            ]
          },
          "metadata": {
            "tags": []
          },
          "execution_count": 17
        }
      ]
    },
    {
      "cell_type": "code",
      "metadata": {
        "id": "1twCbnrmABGt",
        "colab": {
          "base_uri": "https://localhost:8080/",
          "height": 555
        },
        "outputId": "2f25a7cc-7f0b-43a4-c80c-8eb2fdaa2908"
      },
      "source": [
        "print(mu)\n",
        "# print(sigma)\n",
        "\n",
        "\n"
      ],
      "execution_count": null,
      "outputs": [
        {
          "output_type": "stream",
          "text": [
            "Time      11.252384\n",
            "V1         0.005247\n",
            "V2        -0.005416\n",
            "V3         0.010293\n",
            "V4        -0.008144\n",
            "V5         0.004281\n",
            "V6         0.001813\n",
            "V7         0.010354\n",
            "V8        -0.001103\n",
            "V9         0.006351\n",
            "V10        0.009573\n",
            "V11       -0.007736\n",
            "V12        0.009943\n",
            "V13        0.001084\n",
            "V14        0.010816\n",
            "V15        0.001082\n",
            "V16        0.007216\n",
            "V17        0.012364\n",
            "V18        0.003412\n",
            "V19       -0.001811\n",
            "V20       -0.001092\n",
            "V21       -0.001302\n",
            "V22       -0.000354\n",
            "V23        0.000209\n",
            "V24        0.000288\n",
            "V25        0.000375\n",
            "V26        0.000457\n",
            "V27       -0.000509\n",
            "V28       -0.000119\n",
            "Amount     3.152259\n",
            "dtype: float64\n"
          ],
          "name": "stdout"
        }
      ]
    },
    {
      "cell_type": "code",
      "metadata": {
        "id": "MsLzITjPAOde",
        "colab": {
          "base_uri": "https://localhost:8080/",
          "height": 34
        },
        "outputId": "6f658410-77c1-4294-96af-983992ea9d43"
      },
      "source": [
        "#performance on test data\n",
        "#step 3: prediction on test data\n",
        "y_test_pred_raw = model.logpdf(testFeatures)\n",
        "y_pred_test = y_test_pred_raw < bestThreshold\n",
        "\n",
        "f1_score(testLabel, y_pred_test, average = \"binary\")"
      ],
      "execution_count": null,
      "outputs": [
        {
          "output_type": "execute_result",
          "data": {
            "text/plain": [
              "0.7401574803149606"
            ]
          },
          "metadata": {
            "tags": []
          },
          "execution_count": 18
        }
      ]
    },
    {
      "cell_type": "code",
      "metadata": {
        "id": "3T-cwgMIJrxn",
        "colab": {
          "base_uri": "https://localhost:8080/",
          "height": 34
        },
        "outputId": "0cb5b8a5-27c1-4409-8243-d2a78c47f910"
      },
      "source": [
        "y_pred_test"
      ],
      "execution_count": null,
      "outputs": [
        {
          "output_type": "execute_result",
          "data": {
            "text/plain": [
              "array([False, False, False, ...,  True, False,  True])"
            ]
          },
          "metadata": {
            "tags": []
          },
          "execution_count": 14
        }
      ]
    },
    {
      "cell_type": "code",
      "metadata": {
        "id": "ikDtOJUuWrLU",
        "colab": {
          "base_uri": "https://localhost:8080/",
          "height": 34
        },
        "outputId": "a78abde8-b03d-4a6b-dbb9-cca947c8b7b3"
      },
      "source": [
        "#index of predicted outliers in test data\n",
        "predoutliersTest = np.asarray(np.where(y_pred_test))\n",
        "\n",
        "len(predoutliersTest[0])"
      ],
      "execution_count": null,
      "outputs": [
        {
          "output_type": "execute_result",
          "data": {
            "text/plain": [
              "262"
            ]
          },
          "metadata": {
            "tags": []
          },
          "execution_count": 20
        }
      ]
    },
    {
      "cell_type": "code",
      "metadata": {
        "id": "9jzeUbA9a3FU",
        "colab": {
          "base_uri": "https://localhost:8080/",
          "height": 527
        },
        "outputId": "26b9343d-59cd-4e49-8f48-e66f23972fc9"
      },
      "source": [
        "predoutliersTest"
      ],
      "execution_count": null,
      "outputs": [
        {
          "output_type": "execute_result",
          "data": {
            "text/plain": [
              "array([[  248,   437,   605,  1007,  1353,  1451,  1462,  1546,  1988,\n",
              "         2461,  3674,  3928,  4216,  4928,  5144,  5846,  5975,  6022,\n",
              "         6682,  6706,  6858,  7017,  7138,  8267,  8452,  8611,  8677,\n",
              "         8936,  8996,  9207,  9443,  9807,  9988, 10263, 10391, 10657,\n",
              "        11224, 12205, 13539, 13935, 14050, 14573, 14579, 14802, 14869,\n",
              "        15740, 16061, 16888, 17322, 17663, 19352, 19902, 20680, 20800,\n",
              "        21748, 22366, 22552, 22859, 23217, 23456, 23742, 24639, 24819,\n",
              "        25654, 25678, 26035, 27282, 27293, 27314, 27587, 27723, 28117,\n",
              "        28178, 28396, 28432, 28433, 28434, 28435, 28436, 28437, 28438,\n",
              "        28440, 28443, 28444, 28445, 28446, 28447, 28449, 28450, 28453,\n",
              "        28454, 28455, 28456, 28457, 28458, 28459, 28460, 28461, 28462,\n",
              "        28463, 28464, 28465, 28466, 28467, 28468, 28469, 28470, 28471,\n",
              "        28472, 28473, 28475, 28479, 28480, 28481, 28482, 28483, 28484,\n",
              "        28486, 28487, 28490, 28492, 28493, 28494, 28496, 28497, 28498,\n",
              "        28499, 28500, 28501, 28502, 28503, 28505, 28506, 28507, 28508,\n",
              "        28510, 28511, 28512, 28513, 28517, 28521, 28523, 28525, 28526,\n",
              "        28527, 28528, 28529, 28530, 28531, 28532, 28536, 28538, 28539,\n",
              "        28540, 28542, 28543, 28544, 28546, 28547, 28549, 28550, 28551,\n",
              "        28552, 28553, 28554, 28555, 28556, 28558, 28559, 28560, 28561,\n",
              "        28562, 28564, 28565, 28566, 28567, 28568, 28570, 28572, 28574,\n",
              "        28575, 28576, 28577, 28578, 28579, 28580, 28581, 28583, 28584,\n",
              "        28585, 28586, 28588, 28589, 28591, 28592, 28594, 28596, 28598,\n",
              "        28599, 28600, 28601, 28602, 28603, 28604, 28605, 28606, 28607,\n",
              "        28609, 28610, 28612, 28615, 28617, 28618, 28619, 28620, 28621,\n",
              "        28622, 28623, 28625, 28626, 28628, 28629, 28630, 28631, 28632,\n",
              "        28633, 28636, 28637, 28638, 28639, 28640, 28641, 28642, 28643,\n",
              "        28645, 28646, 28647, 28648, 28649, 28650, 28651, 28652, 28653,\n",
              "        28654, 28656, 28657, 28658, 28659, 28660, 28661, 28662, 28663,\n",
              "        28664, 28666, 28669, 28670, 28671, 28672, 28673, 28674, 28675,\n",
              "        28677]])"
            ]
          },
          "metadata": {
            "tags": []
          },
          "execution_count": 21
        }
      ]
    },
    {
      "cell_type": "code",
      "metadata": {
        "id": "m2AUkBtbAMEr",
        "colab": {
          "base_uri": "https://localhost:8080/",
          "height": 295
        },
        "outputId": "25f52681-4a81-435d-9326-6e0deccfd0d4"
      },
      "source": [
        "#outliers identified on test data feature column V1 V2\n",
        "plt.figure()\n",
        "plt.title(\"test_data with outlier flaged red\")\n",
        "plt.xlabel(\"V1\")\n",
        "plt.ylabel(\"V2\")\n",
        "plt.plot(testFeatures.iloc[:, 1],testFeatures.iloc[:,2],\"bx\")#plot v1 v2 as blue cross\n",
        "plt.plot(testFeatures.iloc[predoutliersTest[0],0],testFeatures.iloc[predoutliersTest[0],1],\"ro\")#re-plot the outliers as red dots\n",
        "plt.show()"
      ],
      "execution_count": null,
      "outputs": [
        {
          "output_type": "display_data",
          "data": {
            "image/png": "[encoded data removed]",
            "text/plain": [
              "<Figure size 432x288 with 1 Axes>"
            ]
          },
          "metadata": {
            "tags": []
          }
        }
      ]
    },
    {
      "cell_type": "code",
      "metadata": {
        "id": "rF8qcwdvXEKQ",
        "colab": {
          "base_uri": "https://localhost:8080/",
          "height": 295
        },
        "outputId": "16e3cec4-262c-4ce4-db3d-b2289f93ef4a"
      },
      "source": [
        "#outliers identified on test data feature column V2 V3\n",
        "plt.figure()\n",
        "plt.title(\"test_data with outlier flaged red\")\n",
        "plt.xlabel(\"V2\")\n",
        "plt.ylabel(\"V3\")\n",
        "plt.plot(testFeatures.iloc[:, 2],testFeatures.iloc[:,3],\"bx\")\n",
        "plt.plot(testFeatures.iloc[predoutliersTest[0],1],testFeatures.iloc[predoutliersTest[0],2],\"ro\")\n",
        "plt.show()"
      ],
      "execution_count": null,
      "outputs": [
        {
          "output_type": "display_data",
          "data": {
            "image/png": "[encoded data removed]",
            "text/plain": [
              "<Figure size 432x288 with 1 Axes>"
            ]
          },
          "metadata": {
            "tags": []
          }
        }
      ]
    },
    {
      "cell_type": "code",
      "metadata": {
        "id": "WNWb0ZCXEzoG",
        "colab": {
          "base_uri": "https://localhost:8080/",
          "height": 173
        },
        "outputId": "47360bfb-e14a-47c9-82e9-49253757431d"
      },
      "source": [
        "\n",
        "\n",
        "# generate evaluation metrics\n",
        "print(\"%s: %r\" % (\"accuracy_score is: \", accuracy_score(testLabel, y_pred_test)))\n",
        "print(\"%s: %r\" % (\"roc_auc_score is: \", roc_auc_score(testLabel, y_test_pred_raw)))#correction: y_pred_test instead of y_test_pred_raw\n",
        "print(\"%s: %r\" % (\"f1_score is: \", f1_score(testLabel, y_pred_test )))#string to int\n",
        "\n",
        "print (\"confusion_matrix is: \")\n",
        "cm = confusion_matrix(testLabel, y_pred_test)\n",
        "cmDF = pd.DataFrame(cm, columns=['pred_0', 'pred_1'], index=['true_0', 'true_1'])\n",
        "print(cmDF)\n",
        "print('recall =',float(cm[1,1])/(cm[1,0]+cm[1,1]))\n",
        "print('precision =', float(cm[1,1])/(cm[1,1] + cm[0,1]))#1.0\n",
        "\n"
      ],
      "execution_count": null,
      "outputs": [
        {
          "output_type": "stream",
          "text": [
            "accuracy_score is: : 0.9953971685612665\n",
            "roc_auc_score is: : 0.03898289914947546\n",
            "f1_score is: : 0.7401574803149606\n",
            "confusion_matrix is: \n",
            "        pred_0  pred_1\n",
            "true_0   28358      74\n",
            "true_1      58     188\n",
            "recall = 0.7642276422764228\n",
            "precision = 0.7175572519083969\n"
          ],
          "name": "stdout"
        }
      ]
    },
    {
      "cell_type": "code",
      "metadata": {
        "id": "2XBjlsqlAQwP"
      },
      "source": [
        "#note we can apply supervised learning on this data too, but performance may be different, \n",
        "#can try use the output prob as an additional input feature of the supervised learning model, and see if it improved the model perf"
      ],
      "execution_count": null,
      "outputs": []
    },
    {
      "cell_type": "code",
      "metadata": {
        "id": "GlGZ1dSIAUaA",
        "colab": {
          "base_uri": "https://localhost:8080/"
        },
        "outputId": "0be44b05-7eb1-4c03-9b94-09cd61ab1958"
      },
      "source": [
        "# Number of estimators: n_estimators refers to the number of base estimators or trees in the ensemble, i.e. the number of trees that will get built in the forest. \n",
        "# This is an integer parameter and is optional. The default value is 100.\n",
        "\n",
        "# Max samples: max_samples is the number of samples to be drawn to train each base estimator. If max_samples is more than the number of samples provided, \n",
        "# all samples will be used for all trees. The default value of max_samples is 'auto'. If 'auto', then max_samples=min(256, n_samples)\n",
        "\n",
        "# Contamination: This is a parameter that the algorithm is quite sensitive to; it refers to the expected proportion of outliers in the data set. \n",
        "# This is used when fitting to define the threshold on the scores of the samples. The default value is 'auto'. \n",
        "# If ‘auto’, the threshold value will be determined as in the original paper of Isolation Forest.\n",
        "\n",
        "# Max features: All the base estimators are not trained with all the features available in the dataset. It is the number of features to \n",
        "# draw from the total features to train each base estimator or tree.The default value of max features is one.\n",
        "\n",
        "IFModel = IsolationForest(random_state=0, contamination = 0.01, n_estimators = 200, max_features = 2).fit(train)\n",
        "IFModel"
      ],
      "execution_count": null,
      "outputs": [
        {
          "output_type": "execute_result",
          "data": {
            "text/plain": [
              "IsolationForest(behaviour='deprecated', bootstrap=False, contamination=0.01,\n",
              "                max_features=2, max_samples='auto', n_estimators=200,\n",
              "                n_jobs=None, random_state=0, verbose=0, warm_start=False)"
            ]
          },
          "metadata": {
            "tags": []
          },
          "execution_count": 11
        }
      ]
    },
    {
      "cell_type": "code",
      "metadata": {
        "colab": {
          "base_uri": "https://localhost:8080/"
        },
        "id": "jWIb7J4lIswm",
        "outputId": "f72cd9e8-d4fa-4270-c69d-00607a8e700a"
      },
      "source": [
        "# convert 1/-1 to 0/1 for f1 calculation\n",
        "def convert(x):\n",
        "  if x == 1:\n",
        "    return 0\n",
        "  else:\n",
        "    return 1\n",
        "pred = IFModel.predict(testFeatures) #1 for inliers, -1 for outliers.\n",
        "pred2 = list(map(convert, pred))\n",
        "# pred2\n",
        "import collections\n",
        "\n",
        "counter=collections.Counter(pred2)\n",
        "print(counter)#\n",
        "\n",
        "f1_score(testLabel, pred2, average = \"binary\")#0.48 when added parameters"
      ],
      "execution_count": null,
      "outputs": [
        {
          "output_type": "stream",
          "text": [
            "Counter({0: 28288, 1: 390})\n"
          ],
          "name": "stdout"
        },
        {
          "output_type": "execute_result",
          "data": {
            "text/plain": [
              "0.48113207547169806"
            ]
          },
          "metadata": {
            "tags": []
          },
          "execution_count": 12
        }
      ]
    },
    {
      "cell_type": "code",
      "metadata": {
        "id": "KPDpG_TgKPzY"
      },
      "source": [
        ""
      ],
      "execution_count": null,
      "outputs": []
    }
  ]
}