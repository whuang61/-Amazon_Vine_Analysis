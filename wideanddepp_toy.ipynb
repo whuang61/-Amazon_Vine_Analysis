{
  "nbformat": 4,
  "nbformat_minor": 0,
  "metadata": {
    "colab": {
      "name": "wideanddepp_toy.ipynb",
      "provenance": [],
      "toc_visible": true,
      "include_colab_link": true
    },
    "kernelspec": {
      "name": "python3",
      "display_name": "Python 3"
    }
  },
  "cells": [
    {
      "cell_type": "markdown",
      "metadata": {
        "id": "view-in-github",
        "colab_type": "text"
      },
      "source": [
        "<a href=\"https://colab.research.google.com/github/whuang61/-Amazon_Vine_Analysis/blob/main/wideanddepp_toy.ipynb\" target=\"_parent\"><img src=\"https://colab.research.google.com/assets/colab-badge.svg\" alt=\"Open In Colab\"/></a>"
      ]
    },
    {
      "cell_type": "code",
      "source": [
        "!wget -O diabetes.csv https://raw.githubusercontent.com/plotly/datasets/master/diabetes.csv"
      ],
      "metadata": {
        "colab": {
          "base_uri": "https://localhost:8080/"
        },
        "id": "VN35HLqWe34b",
        "outputId": "d7bfb841-53e7-4a80-a395-f4dcb991c6c1"
      },
      "execution_count": null,
      "outputs": [
        {
          "output_type": "stream",
          "name": "stdout",
          "text": [
            "--2022-02-11 01:58:25--  https://raw.githubusercontent.com/plotly/datasets/master/diabetes.csv\n",
            "Resolving raw.githubusercontent.com (raw.githubusercontent.com)... 185.199.108.133, 185.199.110.133, 185.199.109.133, ...\n",
            "Connecting to raw.githubusercontent.com (raw.githubusercontent.com)|185.199.108.133|:443... connected.\n",
            "HTTP request sent, awaiting response... 200 OK\n",
            "Length: 23873 (23K) [text/plain]\n",
            "Saving to: ‘diabetes.csv’\n",
            "\n",
            "\rdiabetes.csv          0%[                    ]       0  --.-KB/s               \rdiabetes.csv        100%[===================>]  23.31K  --.-KB/s    in 0.001s  \n",
            "\n",
            "2022-02-11 01:58:25 (15.6 MB/s) - ‘diabetes.csv’ saved [23873/23873]\n",
            "\n"
          ]
        }
      ]
    },
    {
      "cell_type": "code",
      "source": [
        "!ls\n",
        "!pwd"
      ],
      "metadata": {
        "colab": {
          "base_uri": "https://localhost:8080/"
        },
        "id": "16z33qLHfLjR",
        "outputId": "c89f1ce2-ab05-4c6a-aa09-8b6d7d539337"
      },
      "execution_count": null,
      "outputs": [
        {
          "output_type": "stream",
          "name": "stdout",
          "text": [
            "diabetes.csv  sample_data\n",
            "/content\n"
          ]
        }
      ]
    },
    {
      "cell_type": "code",
      "source": [
        "!tail diabetes.csv"
      ],
      "metadata": {
        "colab": {
          "base_uri": "https://localhost:8080/"
        },
        "id": "gHSvr3YvgO6l",
        "outputId": "85c065c5-f039-42e2-dac7-e6c4b6f0bc15"
      },
      "execution_count": null,
      "outputs": [
        {
          "output_type": "stream",
          "name": "stdout",
          "text": [
            "1,106,76,0,0,37.5,0.197,26,0\r\n",
            "6,190,92,0,0,35.5,0.278,66,1\r\n",
            "2,88,58,26,16,28.4,0.766,22,0\r\n",
            "9,170,74,31,0,44,0.403,43,1\r\n",
            "9,89,62,0,0,22.5,0.142,33,0\r\n",
            "10,101,76,48,180,32.9,0.171,63,0\r\n",
            "2,122,70,27,0,36.8,0.34,27,0\r\n",
            "5,121,72,23,112,26.2,0.245,30,0\r\n",
            "1,126,60,0,0,30.1,0.349,47,1\r\n",
            "1,93,70,31,0,30.4,0.315,23,0"
          ]
        }
      ]
    },
    {
      "cell_type": "code",
      "source": [
        "from torch import nn, optim, from_numpy\n",
        "import numpy as np\n",
        "from numpy import genfromtxt\n",
        "\n",
        "xy = genfromtxt('/content/diabetes.csv', delimiter=',', dtype=np.float32)\n",
        "x_data = from_numpy(xy[:, 0:-1])\n",
        "y_data = from_numpy(xy[:, [-1]])\n",
        "print(f'X\\'s shape: {x_data.shape} | Y\\'s shape: {y_data.shape}')"
      ],
      "metadata": {
        "colab": {
          "base_uri": "https://localhost:8080/"
        },
        "id": "17BySeONfVY5",
        "outputId": "7594fa16-a407-43d7-958a-e3da0d8f9f6b"
      },
      "execution_count": null,
      "outputs": [
        {
          "output_type": "stream",
          "name": "stdout",
          "text": [
            "X's shape: torch.Size([769, 8]) | Y's shape: torch.Size([769, 1])\n"
          ]
        }
      ]
    },
    {
      "cell_type": "code",
      "metadata": {
        "id": "FD9PRwOt-Y_x"
      },
      "source": [
        "class Model(nn.Module):\n",
        "    def __init__(self):\n",
        "        \"\"\"\n",
        "        In the constructor we instantiate two nn.Linear module\n",
        "        \"\"\"\n",
        "        super(Model, self).__init__()\n",
        "        self.l1 = nn.Linear(8, 10)\n",
        "        self.l2 = nn.Linear(10, 4)\n",
        "        self.l3 = nn.Linear(4, 20)\n",
        "        self.l4 = nn.Linear(20, 1)\n",
        "\n",
        "        self.sigmoid = nn.Sigmoid()\n",
        "\n",
        "    def forward(self, x):\n",
        "        \"\"\"\n",
        "        In the forward function we accept a Variable of input data and we must return\n",
        "        a Variable of output data. We can use Modules defined in the constructor as\n",
        "        well as arbitrary operators on Variables.\n",
        "        \"\"\"\n",
        "        out1 = self.sigmoid(self.l1(x))\n",
        "        out2 = self.sigmoid(self.l2(out1))\n",
        "        out3 = self.sigmoid(self.l3(out2))\n",
        "        y_pred = self.sigmoid(self.l4(out3))\n",
        "        return y_pred\n",
        "\n",
        "# our model\n",
        "model = Model()\n",
        "\n",
        "# Construct our loss function and an Optimizer. The call to model.parameters()\n",
        "# in the SGD constructor will contain the learnable parameters of the two\n",
        "# nn.Linear modules which are members of the model.\n",
        "criterion = nn.CrossEntropyLoss()\n",
        "optimizer = optim.SGD(model.parameters(), lr=0.1)\n"
      ],
      "execution_count": null,
      "outputs": []
    },
    {
      "cell_type": "code",
      "source": [
        "# Training loop\n",
        "for epoch in range(100):\n",
        "    # Forward pass: Compute predicted y by passing x to the model\n",
        "    y_pred = model(x_data)\n",
        "\n",
        "    # Compute and print loss\n",
        "    loss = criterion(y_pred, y_data)\n",
        "    print(f'Epoch: {epoch + 1}/100 | Loss: {loss.item():.4f}')\n",
        "\n",
        "    # Zero gradients, perform a backward pass, and update the weights.\n",
        "    optimizer.zero_grad()\n",
        "    loss.backward()\n",
        "    optimizer.step()"
      ],
      "metadata": {
        "colab": {
          "base_uri": "https://localhost:8080/"
        },
        "id": "JQB5g5eme2SG",
        "outputId": "d12f9f84-d1c9-4ad9-8a13-a4ee647efc49"
      },
      "execution_count": null,
      "outputs": [
        {
          "output_type": "stream",
          "name": "stdout",
          "text": [
            "Epoch: 1/100 | Loss: nan\n",
            "Epoch: 2/100 | Loss: nan\n",
            "Epoch: 3/100 | Loss: nan\n",
            "Epoch: 4/100 | Loss: nan\n",
            "Epoch: 5/100 | Loss: nan\n",
            "Epoch: 6/100 | Loss: nan\n",
            "Epoch: 7/100 | Loss: nan\n",
            "Epoch: 8/100 | Loss: nan\n",
            "Epoch: 9/100 | Loss: nan\n",
            "Epoch: 10/100 | Loss: nan\n",
            "Epoch: 11/100 | Loss: nan\n",
            "Epoch: 12/100 | Loss: nan\n",
            "Epoch: 13/100 | Loss: nan\n",
            "Epoch: 14/100 | Loss: nan\n",
            "Epoch: 15/100 | Loss: nan\n",
            "Epoch: 16/100 | Loss: nan\n",
            "Epoch: 17/100 | Loss: nan\n",
            "Epoch: 18/100 | Loss: nan\n",
            "Epoch: 19/100 | Loss: nan\n",
            "Epoch: 20/100 | Loss: nan\n",
            "Epoch: 21/100 | Loss: nan\n",
            "Epoch: 22/100 | Loss: nan\n",
            "Epoch: 23/100 | Loss: nan\n",
            "Epoch: 24/100 | Loss: nan\n",
            "Epoch: 25/100 | Loss: nan\n",
            "Epoch: 26/100 | Loss: nan\n",
            "Epoch: 27/100 | Loss: nan\n",
            "Epoch: 28/100 | Loss: nan\n",
            "Epoch: 29/100 | Loss: nan\n",
            "Epoch: 30/100 | Loss: nan\n",
            "Epoch: 31/100 | Loss: nan\n",
            "Epoch: 32/100 | Loss: nan\n",
            "Epoch: 33/100 | Loss: nan\n",
            "Epoch: 34/100 | Loss: nan\n",
            "Epoch: 35/100 | Loss: nan\n",
            "Epoch: 36/100 | Loss: nan\n",
            "Epoch: 37/100 | Loss: nan\n",
            "Epoch: 38/100 | Loss: nan\n",
            "Epoch: 39/100 | Loss: nan\n",
            "Epoch: 40/100 | Loss: nan\n",
            "Epoch: 41/100 | Loss: nan\n",
            "Epoch: 42/100 | Loss: nan\n",
            "Epoch: 43/100 | Loss: nan\n",
            "Epoch: 44/100 | Loss: nan\n",
            "Epoch: 45/100 | Loss: nan\n",
            "Epoch: 46/100 | Loss: nan\n",
            "Epoch: 47/100 | Loss: nan\n",
            "Epoch: 48/100 | Loss: nan\n",
            "Epoch: 49/100 | Loss: nan\n",
            "Epoch: 50/100 | Loss: nan\n",
            "Epoch: 51/100 | Loss: nan\n",
            "Epoch: 52/100 | Loss: nan\n",
            "Epoch: 53/100 | Loss: nan\n",
            "Epoch: 54/100 | Loss: nan\n",
            "Epoch: 55/100 | Loss: nan\n",
            "Epoch: 56/100 | Loss: nan\n",
            "Epoch: 57/100 | Loss: nan\n",
            "Epoch: 58/100 | Loss: nan\n",
            "Epoch: 59/100 | Loss: nan\n",
            "Epoch: 60/100 | Loss: nan\n",
            "Epoch: 61/100 | Loss: nan\n",
            "Epoch: 62/100 | Loss: nan\n",
            "Epoch: 63/100 | Loss: nan\n",
            "Epoch: 64/100 | Loss: nan\n",
            "Epoch: 65/100 | Loss: nan\n",
            "Epoch: 66/100 | Loss: nan\n",
            "Epoch: 67/100 | Loss: nan\n",
            "Epoch: 68/100 | Loss: nan\n",
            "Epoch: 69/100 | Loss: nan\n",
            "Epoch: 70/100 | Loss: nan\n",
            "Epoch: 71/100 | Loss: nan\n",
            "Epoch: 72/100 | Loss: nan\n",
            "Epoch: 73/100 | Loss: nan\n",
            "Epoch: 74/100 | Loss: nan\n",
            "Epoch: 75/100 | Loss: nan\n",
            "Epoch: 76/100 | Loss: nan\n",
            "Epoch: 77/100 | Loss: nan\n",
            "Epoch: 78/100 | Loss: nan\n",
            "Epoch: 79/100 | Loss: nan\n",
            "Epoch: 80/100 | Loss: nan\n",
            "Epoch: 81/100 | Loss: nan\n",
            "Epoch: 82/100 | Loss: nan\n",
            "Epoch: 83/100 | Loss: nan\n",
            "Epoch: 84/100 | Loss: nan\n",
            "Epoch: 85/100 | Loss: nan\n",
            "Epoch: 86/100 | Loss: nan\n",
            "Epoch: 87/100 | Loss: nan\n",
            "Epoch: 88/100 | Loss: nan\n",
            "Epoch: 89/100 | Loss: nan\n",
            "Epoch: 90/100 | Loss: nan\n",
            "Epoch: 91/100 | Loss: nan\n",
            "Epoch: 92/100 | Loss: nan\n",
            "Epoch: 93/100 | Loss: nan\n",
            "Epoch: 94/100 | Loss: nan\n",
            "Epoch: 95/100 | Loss: nan\n",
            "Epoch: 96/100 | Loss: nan\n",
            "Epoch: 97/100 | Loss: nan\n",
            "Epoch: 98/100 | Loss: nan\n",
            "Epoch: 99/100 | Loss: nan\n",
            "Epoch: 100/100 | Loss: nan\n"
          ]
        }
      ]
    }
  ]
}